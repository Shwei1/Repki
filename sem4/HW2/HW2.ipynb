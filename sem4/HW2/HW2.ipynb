{
 "cells": [
  {
   "cell_type": "markdown",
   "id": "274b0c95-b082-488f-bba9-32c1abb315bb",
   "metadata": {},
   "source": [
    "### <font color=blue> t02_07: </font>\n",
    "$f(n) = 3n^2 - n + 4$ <br>\n",
    "$g(n) = n\\log(n) + 5$ <br>\n",
    "\n",
    "$\\exists n_{0} \\in \\mathbb{N} \\; \\exists c \\in \\mathbb{R}: \\forall n > n_{0}: f(n) + g(n) \\leq cn^2$ <br>\n",
    "\n",
    "$3n^2 - n + 4 + n\\log(n) + 5 \\leq cn^2$ <br>\n",
    "\n",
    "Покладемо $c = 4$, перенесемо доданок з квадратом направо і поділимо обидві частини на $n^2 > 0$: <br>\n",
    "\n",
    "$\\log(n)/n - 1/n + 9/n^2 \\leq 1$ <br>\n",
    "\n",
    "Це вочевидь справждується для достатньо великого n, експериментально для n = 4. Отже, справджується і початкова нерівність з $n_{0} = 4, c = 4$. Отже, $f(n) + g(n) = O(n^2)$."
   ]
  },
  {
   "cell_type": "code",
   "execution_count": 26,
   "id": "3f0aa359-2d84-4fcd-8fa7-c1c79939454b",
   "metadata": {},
   "outputs": [
    {
     "data": {
      "text/plain": [
       "True"
      ]
     },
     "execution_count": 26,
     "metadata": {},
     "output_type": "execute_result"
    }
   ],
   "source": [
    "from numpy import log\n",
    "n = 4\n",
    "log(n)/n - 1/n + 9/(n ** 2) <= 1"
   ]
  },
  {
   "cell_type": "markdown",
   "id": "693e7343-6e96-48d9-84c7-9da5d0fd9f6a",
   "metadata": {},
   "source": [
    "### <font color=blue> t02_10: </font>"
   ]
  },
  {
   "cell_type": "code",
   "execution_count": 1,
   "id": "1508f7b9-73d8-456c-9c49-7602249b7060",
   "metadata": {},
   "outputs": [],
   "source": [
    "def f(n): \n",
    "    sum = 0 # 2\n",
    "    for i in range(1, n+1): # n\n",
    "        sum = sum + i # n\n",
    "    return sum"
   ]
  },
  {
   "cell_type": "markdown",
   "id": "a326db9d-8a82-4789-bb49-7c0942a126c8",
   "metadata": {},
   "source": [
    "$ f(n) = O(n) $\n",
    "Результат можна покращити, скориставшись формулою суми перших n натуральних чисел:\n",
    "$$\n",
    "\\sum_{i=1}^{n}i = \\frac{n(n+1)}{2}\n",
    "$$\n",
    "Обрахунок простої формули відбуватиметься за $O(1)$."
   ]
  },
  {
   "cell_type": "markdown",
   "id": "f9be1486-073d-4b9b-80b8-8bcc9950f420",
   "metadata": {},
   "source": [
    "### <font color=blue> t02_11: </font>"
   ]
  },
  {
   "cell_type": "code",
   "execution_count": 5,
   "id": "c0a19b4a-5201-4a9d-8358-740f01daec07",
   "metadata": {},
   "outputs": [
    {
     "data": {
      "text/plain": [
       "50"
      ]
     },
     "execution_count": 5,
     "metadata": {},
     "output_type": "execute_result"
    }
   ],
   "source": [
    "def g(n):\n",
    "    sum = 0 \n",
    "    for i in range(1, n+1): # n\n",
    "        sum = sum + i + f(i) # n^2\n",
    "    return sum\n",
    "\n",
    "# n = 5\n",
    "# g(n)"
   ]
  },
  {
   "cell_type": "markdown",
   "id": "5e20b4ff-58ae-451e-a161-04a57f7fb766",
   "metadata": {},
   "source": [
    "$g(n)$ повертає суму перших n наутральних чисел, плюс суму часткових сум перших n натуральних чисел. $g(n) = O(n^2)$ у найгіршому випадку, коли $f(n)$ неоптимізована. Якщо $f(n)$ працює за константний час, то $g(n) = O(n)$. \n",
    "Спробуємо оптимізувати ще більше. На кожній ітерації, сума інкрементується наступним числом:\n",
    "$$i + \\sum_{j=0}^{i}j$$\n",
    "<br>\n",
    "що після n ітерацій дає\n",
    "$$\\sum_{i=0}^{n}i + \\sum_{i=0}^{n}\\sum_{j=0}^{i}j = \\frac{n(n+1)}{2} + \\sum_{i=0}^{n}\\frac{i(i+1)}{2} = \\frac{n(n+1)}{2} + \\frac{1}{2}\\sum_{i=0}^{n}(i^2+i)=$$ <br>\n",
    "$$= \\frac{n(n+1)}{2} + \\frac{n(n+1)}{4} + \\frac{n(n+1)(2n+1)}{12} = \\frac{6n(n+1) + 3n(n+1) + n(n+1)(2n+1)}{12}$$ <br>\n",
    "$$= \\frac{n(n+1)(2n+10)}{12}$$ <br>\n",
    "З цією формулою обрахунок $g_{opt}(n)=O(1)$\n"
   ]
  },
  {
   "cell_type": "markdown",
   "id": "c4f3e22b-9fd6-499f-9db6-7ca1d6535a98",
   "metadata": {},
   "source": [
    "### <font color = blue> t02_12: </font>"
   ]
  },
  {
   "cell_type": "code",
   "execution_count": null,
   "id": "67072eb7-cb55-4471-9d17-e2cb1d4bd61b",
   "metadata": {},
   "outputs": [],
   "source": [
    "def h(n):\n",
    "    return f(n) + g(n)"
   ]
  },
  {
   "cell_type": "markdown",
   "id": "df4b1394-2a7e-4414-8596-22a01417df26",
   "metadata": {},
   "source": [
    "У найгіршому випадку ця функція звернеться до неоптимізованих функцій $f(n)$ та $g(n)$, і в результаті матимемо $h(n) = O(n^2+n)=O(n^2).$\n",
    "Оптимізовані ж $f(n)$ та $g(n)$ працюють за константний час, і з ними $h(n) = O(1)$"
   ]
  },
  {
   "cell_type": "markdown",
   "id": "1ec277ac-2760-4feb-a7e2-0455feb43160",
   "metadata": {},
   "source": [
    "### <font color=blue> t02_13: </font>"
   ]
  },
  {
   "cell_type": "markdown",
   "id": "6c47e162-6d47-4bb8-97a1-d2693e5e7c77",
   "metadata": {},
   "source": [
    "<b> a) </b>\n",
    "$T(n) = T(n-1) + O(1) = T(n-2) + O(1) + O(1) = \\dots = O(1) + n*O(1) = O(n)$ <br>\n",
    "<b> d) </b>\n",
    "$T(n) = aT(n-a) + O(1) = a(aT(n-2a) + O(1)) + O(1) = a^2T(n-2a)+O(1)= \\dots = a^n * O(1) + O(n) = {O(a^n)}$ <br>\n",
    "<b> g) </b>\n",
    "$T(n) = aT([n/a]) + O(1) = a(aT([n/2a] + O(1)) + O(1) = a^2T([n/2a]) + a*O(1) = \\dots = a^{\\lceil\\log_{a}(n)\\rceil} + O(log_{a}n) = O(n)$ <br>\n",
    "<b> h) </b>\n",
    "$T(n) = aT([n/a])+O(n) = a(aT([n/a]) + O(n)) + O(n) = a^2T([n/2a]) + a * O(n) + O(n) = \\dots = a^{\\lceil\\log_{a}(n)\\rceil}+\\lceil\\log_{a}(n)\\rceil * O(n) = O(n\\log n)$"
   ]
  },
  {
   "cell_type": "markdown",
   "id": "c64d2aee-3bd2-4838-9e0e-02a757ca89a7",
   "metadata": {},
   "source": [
    "### <font color=blue> t02_14: </font>"
   ]
  },
  {
   "cell_type": "code",
   "execution_count": 13,
   "id": "bf9fefd6-a651-4f15-8352-304246eaabd1",
   "metadata": {},
   "outputs": [
    {
     "data": {
      "text/plain": [
       "True"
      ]
     },
     "execution_count": 13,
     "metadata": {},
     "output_type": "execute_result"
    }
   ],
   "source": [
    "#a\n",
    "def a(n):\n",
    "    sum = 0\n",
    "    for i in range(1, n+1): # n\n",
    "        sum += i\n",
    "    return sum\n",
    "\n",
    "#b\n",
    "def b(n):\n",
    "    sum = 0\n",
    "    for i in range(2*n+1): # 2n + 1 = O(n)\n",
    "        sum += n*(n+1)/6\n",
    "\n",
    "#c \n",
    "def c(n, a):\n",
    "    an = a\n",
    "    for i in range(n): # n\n",
    "        an *= a\n",
    "    result = (an-1)/(a-1)\n",
    "\n",
    "#d\n",
    "def d(n):\n",
    "    sum = 0\n",
    "    for i in range(n+1): # n\n",
    "        pow_i = 1;\n",
    "        for j in range(i): # n^2\n",
    "            pow_i *= i\n",
    "        sum += pow_i\n",
    "    return sum\n",
    "\n",
    "#e\n",
    "def e(n):\n",
    "    product = 1\n",
    "    for i in range(1, n+1): # n\n",
    "        product *= 1/(1+i)\n",
    "    return product\n",
    "\n",
    "#f\n",
    "def f(n):\n",
    "    product = 1\n",
    "    factorial = 1\n",
    "    for i in range(1, n+1): # n\n",
    "        factorial *= i\n",
    "        product *= 1/(1+factorial)\n",
    "    return product\n",
    "\n",
    "#g\n",
    "def g(n, a):\n",
    "    product = 1\n",
    "    factorial = 1\n",
    "    an = 1\n",
    "    for i in range(1, n+1): # n\n",
    "        an *= a\n",
    "        factorial *= i\n",
    "        product *= an/(1+factorial)\n",
    "    return product\n",
    "\n",
    "#h\n",
    "def h(n, m):\n",
    "    product = 1\n",
    "    for i in range(1, n+1): # n\n",
    "        im = 1\n",
    "        for j in range(m): # n*m\n",
    "            im *= i\n",
    "        product *= 1/(1+im)\n",
    "    return product\n",
    "\n",
    "def i(n):\n",
    "    product = 1\n",
    "    for i in range(1, n+1): #n\n",
    "        i_i = 1\n",
    "        for j in range(i): # O(n^2)\n",
    "            i_i *= i\n",
    "        product *= 1/(1+i_i)\n",
    "    return product\n",
    "\n",
    "            "
   ]
  },
  {
   "cell_type": "code",
   "execution_count": null,
   "id": "adde4a06-eb71-488a-b3fc-9ed50558ae18",
   "metadata": {},
   "outputs": [],
   "source": []
  }
 ],
 "metadata": {
  "kernelspec": {
   "display_name": "Python 3 (ipykernel)",
   "language": "python",
   "name": "python3"
  },
  "language_info": {
   "codemirror_mode": {
    "name": "ipython",
    "version": 3
   },
   "file_extension": ".py",
   "mimetype": "text/x-python",
   "name": "python",
   "nbconvert_exporter": "python",
   "pygments_lexer": "ipython3",
   "version": "3.10.2"
  }
 },
 "nbformat": 4,
 "nbformat_minor": 5
}
