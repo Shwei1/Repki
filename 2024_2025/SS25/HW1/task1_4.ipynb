{
 "cells": [
  {
   "cell_type": "markdown",
   "id": "1b59732f-09a7-49d2-ba76-11efa8c3febe",
   "metadata": {},
   "source": [
    "$T(n) = T(n-a) + 1$\n",
    "<br>\n",
    "$\n",
    "T(n-a) = T(n-2a) + 1$\n",
    "<br>\n",
    "$\\dots$\n",
    "<br>\n",
    "$T (n-(k+1)a)= T(n-ka)+k$\n",
    "<br>\n",
    "Час обчислення: $\\lceil \\frac{n}{a} \\rceil  $"
   ]
  },
  {
   "cell_type": "raw",
   "id": "54b53730-5553-4898-a041-ab7748cfb771",
   "metadata": {},
   "source": []
  },
  {
   "cell_type": "markdown",
   "id": "99e9e294-f6fe-4cc8-8f85-631302d3c435",
   "metadata": {},
   "source": [
    "$T(n) = T(n-1)+2^n$\n",
    "<br>\n",
    "$T(n-1) = T (n-2) + 2^{n-1}$\n",
    "<br> $\\dots$ <br>\n",
    "$ = \\sum_{i=0}^{n} 2^i = 2^{n+1}-1$ "
   ]
  },
  {
   "cell_type": "raw",
   "id": "344efe84-0472-4eb0-aeb6-0955dadde088",
   "metadata": {},
   "source": []
  },
  {
   "cell_type": "markdown",
   "id": "4ceff17e-b83c-4366-bc36-490f07fe864c",
   "metadata": {},
   "source": [
    "$T(n) = 2T([n/2]) + 1$\n",
    "<br>\n",
    "$ = 4T([n/4])+3 = $\n",
    "<br> $\\dots$ <br>\n",
    "$ = \\sum_{i=0}^{\\log_{2}(n)} 2^i * 1 = 2^{\\lceil\\log_{2}(n)\\rceil} - 1$"
   ]
  },
  {
   "cell_type": "raw",
   "id": "a3dc0235-c9a6-4ec4-b86b-3eaf4e06b925",
   "metadata": {},
   "source": []
  },
  {
   "cell_type": "markdown",
   "id": "1b11d274-f281-4b12-a41f-a4b6f41ec062",
   "metadata": {},
   "source": [
    "$T(n) = aT([n/a])+n$\n",
    "<br> \n",
    "$T([n/a]) = aT([n/a^2])+[n/a] $\n",
    "<br> $\\dots$ <br>\n",
    "$$ T(n) = a^n * \\sum_{i=0}^{\\log_{a}(n)} * [\\frac{n}{a^i}]$$"
   ]
  },
  {
   "cell_type": "code",
   "execution_count": null,
   "id": "12902379-a929-4922-8574-d3e413c3aed4",
   "metadata": {},
   "outputs": [],
   "source": []
  }
 ],
 "metadata": {
  "kernelspec": {
   "display_name": "Python 3 (ipykernel)",
   "language": "python",
   "name": "python3"
  },
  "language_info": {
   "codemirror_mode": {
    "name": "ipython",
    "version": 3
   },
   "file_extension": ".py",
   "mimetype": "text/x-python",
   "name": "python",
   "nbconvert_exporter": "python",
   "pygments_lexer": "ipython3",
   "version": "3.13.1"
  }
 },
 "nbformat": 4,
 "nbformat_minor": 5
}
