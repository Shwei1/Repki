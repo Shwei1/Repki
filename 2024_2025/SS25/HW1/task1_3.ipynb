{
 "cells": [
  {
   "cell_type": "markdown",
   "id": "7d19a2ad-c018-49a8-b949-c4dfb1e17a3f",
   "metadata": {},
   "source": [
    "### Задача 1.3"
   ]
  },
  {
   "cell_type": "code",
   "execution_count": null,
   "id": "9e882f86-358c-48ee-8c1f-b327218d5740",
   "metadata": {},
   "outputs": [],
   "source": [
    "k += 1 # 4\n",
    "i = n # 2\n",
    "while i > 0: # 3(n+1)\n",
    "    i -= 1 # 4n\n"
   ]
  },
  {
   "cell_type": "markdown",
   "id": "964e3b0a-7bab-499e-915b-fcc9a0244998",
   "metadata": {},
   "source": [
    "$$7n+9$$"
   ]
  },
  {
   "cell_type": "code",
   "execution_count": null,
   "id": "d3195770-da34-40ae-88ca-9f86badf6b11",
   "metadata": {},
   "outputs": [],
   "source": [
    "i = n # 2\n",
    "while i > 1: # 3*floor(log(n) + 1)\n",
    "    k += 1 # 4 * (floor(log(n)))\n",
    "    i //= 2 # 4 * (floor(log(n)))"
   ]
  },
  {
   "cell_type": "markdown",
   "id": "9904d02d-e9e3-496d-a4ee-63c0e7cb23e6",
   "metadata": {},
   "source": [
    "$$11\\lfloor\\log_{2}(n)\\rfloor + 5 $$"
   ]
  },
  {
   "cell_type": "code",
   "execution_count": null,
   "id": "2b6ae909-dca4-48b4-9853-9389a3f1d600",
   "metadata": {},
   "outputs": [],
   "source": [
    "i = 0 # 2\n",
    "while i < n: # 3 * (ceiling(n/2) + 1)\n",
    "    j = 0 # 2 * ceiling(n/2)\n",
    "    while j < n: # 3 * (ceiling(n/2) + 1) * ceiling(n/2)\n",
    "        k += 1 # 4 * ceiling(n/2)^2\n",
    "        j += 2 # 4 * ceiling(n/2)^2\n",
    "    i += 2 # 4 * ceiling(n/2)"
   ]
  },
  {
   "cell_type": "markdown",
   "id": "8749791b-6ee2-42f2-bda0-06cfacf73283",
   "metadata": {},
   "source": [
    "$$11\\lceil\\frac{n}{2}\\rceil^{2} + 12 \\lceil\\frac{n}{2}\\rceil + 5\n",
    "$$"
   ]
  },
  {
   "cell_type": "code",
   "execution_count": 9,
   "id": "db050b97-2541-44fa-9cc2-b0631fe4bed4",
   "metadata": {},
   "outputs": [
    {
     "name": "stdout",
     "output_type": "stream",
     "text": [
      "i =  0\n",
      "i =  1\n",
      "i =  2\n",
      "i =  3\n",
      "i =  4\n"
     ]
    },
    {
     "data": {
      "text/plain": [
       "30"
      ]
     },
     "execution_count": 9,
     "metadata": {},
     "output_type": "execute_result"
    }
   ],
   "source": [
    "i = 0 # 2\n",
    "while i < n: # 3 * (n+1)\n",
    "    j = 0 # 2 * n\n",
    "    while j < i * i: # 5 * ((n(n-1)(2n-1)/6) + 1)\n",
    "        k += 1 # 4 * (n(n-1)(2n-1)/6) \n",
    "        j += 1 # 4 * (n(n-1)(2n-1)/6)\n",
    "    i += 1 # 4 * n"
   ]
  },
  {
   "cell_type": "markdown",
   "id": "2b57daa9-505b-460c-954e-9473a522b54b",
   "metadata": {},
   "source": [
    "\n",
    "$$\n",
    "13 * \\frac{n(n-1)(2n-1)}{6} + 9n + 10\n",
    "$$"
   ]
  },
  {
   "cell_type": "code",
   "execution_count": null,
   "id": "2731aa10-f924-4599-a53b-d1c6f081cd10",
   "metadata": {},
   "outputs": [],
   "source": [
    "i = 1 # 2\n",
    "while i < n: # 3 * (ceiling(log2(n))+1)\n",
    "    j = 1 # 2 * ceiling(log2(n))\n",
    "    while j < n: # 3 * ceiling(log2(n) + 1) * ceiling(log2(n))\n",
    "        k += 1 # 4 * ceiling(log2(n)^2)\n",
    "        j *= 2 # 4 * ceiling(log2(n)^2)\n",
    "    i *= 2 # 4 * ceiling(log2(n))"
   ]
  },
  {
   "cell_type": "markdown",
   "id": "43043f5b-2880-4b16-bc18-0acd93f83fc9",
   "metadata": {},
   "source": [
    "$$11\\lceil \\log_{2}(n)\\rceil^{2} + 12 \\lceil \\log_{2}(n)\\rceil + 5$$"
   ]
  },
  {
   "cell_type": "code",
   "execution_count": null,
   "id": "9da5412f-f798-425a-8cbf-7fb771923908",
   "metadata": {},
   "outputs": [],
   "source": [
    "i = 1 # 2\n",
    "while i < n: # 3 * (ceiling(log2(n)) + 1)\n",
    "    j = i # 2 * ceiling(log2(n))\n",
    "    while j < n: # 3 * ceiling(log2(n)) * ((ceiling(log2(n)^2)+ ceiling(log2(n))/2)+1)\n",
    "        k += 1 # 4 * (ceiling(log2(n))^3 + ceiling(log2(n)^2)/2)\n",
    "        j *= 2 # 4 * (ceiling(log2(n))^3 + ceiling(log2(n)^2)/2)\n",
    "    i *= 2 # 4 * ceiling(log2(n))"
   ]
  },
  {
   "cell_type": "markdown",
   "id": "bbd73de6-8c70-477d-bdc1-3eb619d54e60",
   "metadata": {},
   "source": [
    "\n",
    "$$\n",
    "9 * \\frac{\\lceil \\log_{2}^{3}(n)\\rceil + \\lceil \\log_{2}^{2}(n) \\rceil}{2} + 12 \\lceil \\log_{2}(n) \\rceil + 5\n",
    "$$"
   ]
  }
 ],
 "metadata": {
  "kernelspec": {
   "display_name": "Python 3 (ipykernel)",
   "language": "python",
   "name": "python3"
  },
  "language_info": {
   "codemirror_mode": {
    "name": "ipython",
    "version": 3
   },
   "file_extension": ".py",
   "mimetype": "text/x-python",
   "name": "python",
   "nbconvert_exporter": "python",
   "pygments_lexer": "ipython3",
   "version": "3.10.2"
  }
 },
 "nbformat": 4,
 "nbformat_minor": 5
}
